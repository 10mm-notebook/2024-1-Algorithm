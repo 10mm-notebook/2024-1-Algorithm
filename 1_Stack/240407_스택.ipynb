{
  "nbformat": 4,
  "nbformat_minor": 0,
  "metadata": {
    "colab": {
      "provenance": [],
      "authorship_tag": "ABX9TyOGIbpABsKAdaK66K9lNUNX"
    },
    "kernelspec": {
      "name": "python3",
      "display_name": "Python 3"
    },
    "language_info": {
      "name": "python"
    }
  },
  "cells": [
    {
      "cell_type": "code",
      "source": [
        "#용량이 고정된 스택의 데이터\n",
        "capacity=10\n",
        "array=[None]*capacity\n",
        "top=-1"
      ],
      "metadata": {
        "id": "C1AkVSKEn4tm"
      },
      "execution_count": 39,
      "outputs": []
    },
    {
      "cell_type": "code",
      "execution_count": 40,
      "metadata": {
        "id": "eQeWl6VKnjRC"
      },
      "outputs": [],
      "source": [
        "#스택의 연산\n",
        "def isEmpty():\n",
        "  if top==-1:return True\n",
        "  else: return False\n",
        "\n",
        "def isFull(): return top==capacity"
      ]
    },
    {
      "cell_type": "code",
      "source": [
        "#스택의 삽입:push(e)\n",
        "\n",
        "def push(e):\n",
        "  if not isFull():\n",
        "    top+=1\n",
        "    array[top]=e\n",
        "  else:\n",
        "    print(\"Stack Overflow\")\n",
        "    exit()"
      ],
      "metadata": {
        "id": "J-jE71TloA_8"
      },
      "execution_count": 41,
      "outputs": []
    },
    {
      "cell_type": "code",
      "source": [
        "#스택의 삭제:pop() [오답]\n",
        "\n",
        "def pop():\n",
        "  if not isEmpty():\n",
        "    array[top]=None\n",
        "    top-=1\n",
        "  else:\n",
        "    print(\"Stack Underflow\")\n",
        "    exit()"
      ],
      "metadata": {
        "id": "8hocW5DRoVJ1"
      },
      "execution_count": 42,
      "outputs": []
    },
    {
      "cell_type": "code",
      "source": [
        "#스택의 삭제:pop()\n",
        "\n",
        "def pop():\n",
        "  if not isEmpty():\n",
        "    top-=1\n",
        "    return array[top+1]\n",
        "  else:\n",
        "    print(\"Stack Underflow\")\n",
        "    exit()"
      ],
      "metadata": {
        "id": "pd2VqJ8urrLW"
      },
      "execution_count": 43,
      "outputs": []
    },
    {
      "cell_type": "code",
      "source": [
        "#스택 상태 확인 연산: peek():\n",
        "def peek():\n",
        "  if not isEmpty():\n",
        "    return array[top]\n",
        "  else: pass"
      ],
      "metadata": {
        "id": "gf3EydbzptCg"
      },
      "execution_count": 44,
      "outputs": []
    },
    {
      "cell_type": "code",
      "source": [
        "#배열 구조 스택의 클래스 구현\n",
        "\n",
        "class ArrayStack:\n",
        "  def __init__(self,capacity):\n",
        "    self.capacity=capacity\n",
        "    self.array=[None]*self.capacity\n",
        "    self.top=-1\n",
        "\n",
        "  def isEmpty(self) : return self.top==-1\n",
        "  def isFull(self): return self.top==self.capacity-1\n",
        "\n",
        "  def push(self,item):\n",
        "    if not self.isFull():\n",
        "      self.top+=1\n",
        "      self.array[self.top]=item\n",
        "    else:pass\n",
        "\n",
        "  def pop(self):\n",
        "    if not self.isEmpty():\n",
        "      item=self.array[self.top]\n",
        "      self.top-=1\n",
        "      return item\n",
        "    else:\n",
        "      print(\"Stack Underflow\")\n",
        "\n",
        "  def peek(self):\n",
        "    if not self.isEmpty():\n",
        "      return self.array[self.top]\n",
        "    else:\n",
        "      print(\"Stack is empty\")\n",
        "      return None\n",
        "\n",
        "  def size(self):\n",
        "    return self.top+1"
      ],
      "metadata": {
        "id": "nbF42nlUr4CG"
      },
      "execution_count": 45,
      "outputs": []
    },
    {
      "cell_type": "code",
      "source": [
        "#말을 거꾸로 뒤집는 프로그램\n",
        "stack=ArrayStack(100)\n",
        "\n",
        "words=input(\"문자열 입력: \")\n",
        "for c in words:\n",
        "  stack.push(c)\n",
        "\n",
        "print(\"문자열 출력: \",end='')\n",
        "while not stack.isEmpty():\n",
        "  print(stack.pop(),end='')\n",
        "print()"
      ],
      "metadata": {
        "id": "Ayu1ScoSq62K",
        "colab": {
          "base_uri": "https://localhost:8080/"
        },
        "outputId": "a3a081ec-7c84-47be-b0af-1cb73a17854d"
      },
      "execution_count": 61,
      "outputs": [
        {
          "output_type": "stream",
          "name": "stdout",
          "text": [
            "문자열 입력: 안녕하세요\n",
            "문자열 출력: 요세하녕안\n"
          ]
        }
      ]
    },
    {
      "cell_type": "markdown",
      "source": [
        "#괄호 검사 문제\n",
        "## 괄호를 포함한 주어진 문자열에서 괄호들이 올바르게 사용되었는지를 검사하세요.\n",
        "- 조건1: 왼쪽 괄호의 개수와 오른쪽 괄호의 개수가 같아야 합니다.\n",
        "- 조건2: 같은 종류인 경우 왼쪽 괄호가 오른쪽보다 먼저 나와야 합니다.\n",
        "- 조건3: 다른 종류의 괄호 쌍이 서로 교차하면 안 됩니다."
      ],
      "metadata": {
        "id": "MoYMbh4d_Z72"
      }
    },
    {
      "cell_type": "code",
      "source": [
        "def checkBrackets(statement):\n",
        "  stack=ArrayStack(100)\n",
        "  for ch in statement:\n",
        "    if ch in ('{','[','('):\n",
        "      stack.push(ch)\n",
        "    elif ch in ('}',']',')'):\n",
        "      if stack.isEmpty():\n",
        "        return False\n",
        "      else:\n",
        "        left=stack.pop()\n",
        "        if(ch =='}' and left!='{') or \\\n",
        "          (ch ==']' and left!='[') or \\\n",
        "          (ch ==')' and left!='(') :\n",
        "          return False\n",
        "  return stack.isEmpty()\n",
        "\n",
        "print(checkBrackets(\"{[테스트]}\"))"
      ],
      "metadata": {
        "colab": {
          "base_uri": "https://localhost:8080/"
        },
        "id": "aSeK8_qV8tKD",
        "outputId": "84d891ad-ce26-470f-d980-556efe1a9ba4"
      },
      "execution_count": 55,
      "outputs": [
        {
          "output_type": "stream",
          "name": "stdout",
          "text": [
            "True\n"
          ]
        }
      ]
    },
    {
      "cell_type": "code",
      "source": [
        "#반복 함수 / 이해못하겟음 ㅠ\n",
        "def factorial_iter(n):\n",
        "  result=1\n",
        "  for k in range(2,n+1):\n",
        "    result=result*k\n",
        "  return result\n",
        "\n",
        "factorial_iter(5)"
      ],
      "metadata": {
        "colab": {
          "base_uri": "https://localhost:8080/"
        },
        "id": "0xvBF8WtFSMQ",
        "outputId": "408fdd3f-bc91-4513-c3e9-fa9016392008"
      },
      "execution_count": 58,
      "outputs": [
        {
          "output_type": "execute_result",
          "data": {
            "text/plain": [
              "120"
            ]
          },
          "metadata": {},
          "execution_count": 58
        }
      ]
    },
    {
      "cell_type": "code",
      "source": [
        "#재귀 함수\n",
        "def factorial(n):\n",
        "  if n==1:\n",
        "    return 1\n",
        "  else:\n",
        "    return n*factorial(n-1)\n",
        "\n",
        "factorial(5)"
      ],
      "metadata": {
        "colab": {
          "base_uri": "https://localhost:8080/"
        },
        "id": "8yGo8C31Faro",
        "outputId": "b235814e-e328-404f-81db-155e4c13210c"
      },
      "execution_count": 57,
      "outputs": [
        {
          "output_type": "execute_result",
          "data": {
            "text/plain": [
              "120"
            ]
          },
          "metadata": {},
          "execution_count": 57
        }
      ]
    },
    {
      "cell_type": "markdown",
      "source": [
        "#하노이 탑\n",
        "###막대 A에 쌓여 있는 n개의 원판을 모두 C로 옮기는 문제입니다. 단, 다음과 같은 조건을 만족해야 합니다.\n",
        "- 한 번에 하나의 원판만 옮길 수 있습니다.\n",
        "- 맨 위에 있는 원판만 옮길 수 있습니다.\n",
        "- 크기가 작은 원판 위에 큰 원판을 쌓을 수는 없습니다.\n",
        "- 중간 막대 B를 임시 막대로 사용할 수는 있지만 앞의 조건은 지켜야 합니다."
      ],
      "metadata": {
        "id": "D62Xk4ieI8wK"
      }
    },
    {
      "cell_type": "code",
      "source": [
        "def HanoiTower(n,fr,tmp,to): #n: 원판의 수, fr: 시작 막대, tmp: 임시 막대, to: 목표 막대\n",
        "  if (n==1):\n",
        "    print(\"원판 1: %s --> %s\" % (fr,to))\n",
        "  else:\n",
        "    HanoiTower(n-1,fr,to,tmp)\n",
        "    print(\"원판 %d: %s --> %s\" % (n,fr,to))\n",
        "    HanoiTower(n-1,tmp,fr,to)\n",
        "\n",
        "HanoiTower(5,1,2,3)"
      ],
      "metadata": {
        "colab": {
          "base_uri": "https://localhost:8080/"
        },
        "id": "RZEcH8wkI59d",
        "outputId": "2016c6c1-c163-4aaa-a85c-7823bc25dc23"
      },
      "execution_count": 60,
      "outputs": [
        {
          "output_type": "stream",
          "name": "stdout",
          "text": [
            "원판 1: 1 --> 3\n",
            "원판 2: 1 --> 2\n",
            "원판 1: 3 --> 2\n",
            "원판 3: 1 --> 3\n",
            "원판 1: 2 --> 1\n",
            "원판 2: 2 --> 3\n",
            "원판 1: 1 --> 3\n",
            "원판 4: 1 --> 2\n",
            "원판 1: 3 --> 2\n",
            "원판 2: 3 --> 1\n",
            "원판 1: 2 --> 1\n",
            "원판 3: 3 --> 2\n",
            "원판 1: 1 --> 3\n",
            "원판 2: 1 --> 2\n",
            "원판 1: 3 --> 2\n",
            "원판 5: 1 --> 3\n",
            "원판 1: 2 --> 1\n",
            "원판 2: 2 --> 3\n",
            "원판 1: 1 --> 3\n",
            "원판 3: 2 --> 1\n",
            "원판 1: 3 --> 2\n",
            "원판 2: 3 --> 1\n",
            "원판 1: 2 --> 1\n",
            "원판 4: 2 --> 3\n",
            "원판 1: 1 --> 3\n",
            "원판 2: 1 --> 2\n",
            "원판 1: 3 --> 2\n",
            "원판 3: 1 --> 3\n",
            "원판 1: 2 --> 1\n",
            "원판 2: 2 --> 3\n",
            "원판 1: 1 --> 3\n"
          ]
        }
      ]
    }
  ]
}